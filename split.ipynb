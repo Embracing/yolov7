{
 "cells": [
  {
   "cell_type": "code",
   "execution_count": 1,
   "id": "e59300da-e854-46fb-9162-f230e025cb33",
   "metadata": {},
   "outputs": [
    {
     "name": "stdout",
     "output_type": "stream",
     "text": [
      "1039\n"
     ]
    }
   ],
   "source": [
    "import glob\n",
    "import os\n",
    "\n",
    "label_path = r\"D:\\Dataset\\5food\\labels\"\n",
    "all_label_files = glob.glob(os.path.join(label_path, \"*.txt\"))\n",
    "print(len(all_label_files))"
   ]
  },
  {
   "cell_type": "code",
   "execution_count": 2,
   "id": "9ea1de9d-5c25-4463-b798-1176dc0532f1",
   "metadata": {},
   "outputs": [
    {
     "data": {
      "text/plain": [
       "'D:\\\\Dataset\\\\5food\\\\labels\\\\gt_2022-09-05_07_42_57.401.txt'"
      ]
     },
     "execution_count": 2,
     "metadata": {},
     "output_type": "execute_result"
    }
   ],
   "source": [
    "all_label_files[0]"
   ]
  },
  {
   "cell_type": "code",
   "execution_count": 5,
   "id": "759f48f6-0b04-40a3-8646-7d728a1579f5",
   "metadata": {},
   "outputs": [
    {
     "name": "stdout",
     "output_type": "stream",
     "text": [
      "2 0.583937198068 0.449494949495 0.175120772947 0.329292929293\n"
     ]
    }
   ],
   "source": [
    "with open(all_label_files[0], 'r') as f:\n",
    "    for line in f:\n",
    "        cls_id, x, y, w, h = line.strip().split()\n",
    "        print(cls_id, x, y, w, h)"
   ]
  },
  {
   "cell_type": "code",
   "execution_count": 8,
   "id": "3e381af9-0194-4c9f-ad21-b41849f256b6",
   "metadata": {},
   "outputs": [],
   "source": [
    "all_cls = []\n",
    "\n",
    "for file in all_label_files:\n",
    "    with open(file, 'r') as f:\n",
    "        for line in f:\n",
    "            cls_id, x, y, w, h = line.strip().split()\n",
    "            all_cls.append(cls_id)\n",
    "#             break"
   ]
  },
  {
   "cell_type": "code",
   "execution_count": 9,
   "id": "96e606ab-58ca-46e1-ac48-5d6352c5ca9e",
   "metadata": {},
   "outputs": [
    {
     "data": {
      "text/plain": [
       "3059"
      ]
     },
     "execution_count": 9,
     "metadata": {},
     "output_type": "execute_result"
    }
   ],
   "source": [
    "len(all_cls)"
   ]
  },
  {
   "cell_type": "code",
   "execution_count": 10,
   "id": "3df3fa13-f9cc-4d07-a720-ef6650da1805",
   "metadata": {},
   "outputs": [
    {
     "name": "stdout",
     "output_type": "stream",
     "text": [
      "{'4', '2', '3', '1', '0'}\n"
     ]
    }
   ],
   "source": [
    "print(set(all_cls))"
   ]
  },
  {
   "cell_type": "markdown",
   "id": "074244c4-1050-47e6-ae75-ebcf2bdc0960",
   "metadata": {
    "tags": []
   },
   "source": [
    "### Split into Train/Val"
   ]
  },
  {
   "cell_type": "code",
   "execution_count": 3,
   "id": "f192747d-45b5-48ae-b3cc-4579300f3c7b",
   "metadata": {},
   "outputs": [
    {
     "data": {
      "text/plain": [
       "(935, 104)"
      ]
     },
     "execution_count": 3,
     "metadata": {},
     "output_type": "execute_result"
    }
   ],
   "source": [
    "import random\n",
    "\n",
    "total = len(all_label_files)\n",
    "train_ratio = 0.9\n",
    "val_ratio = 0.1\n",
    "\n",
    "train_idx = random.sample(range(total), k= int(total * train_ratio))\n",
    "val_idx = [i for i in range(total) if i not in train_idx ]\n",
    "\n",
    "len(train_idx), len(val_idx)"
   ]
  },
  {
   "cell_type": "code",
   "execution_count": 4,
   "id": "3cd73b72-dad9-4606-932b-8bd94214e608",
   "metadata": {},
   "outputs": [],
   "source": [
    "train_files = [f\"./images/{os.path.basename(os.path.splitext(all_label_files[idx])[0])}.png\" for idx in train_idx]\n",
    "val_files = [f\"./images/{os.path.basename(os.path.splitext(all_label_files[idx])[0])}.png\" for idx in val_idx]\n",
    "\n",
    "# os.path.basename(os.path.splitext(all_label_files[0])[0])"
   ]
  },
  {
   "cell_type": "code",
   "execution_count": 5,
   "id": "c9a574b5-8e94-4cbb-b2e9-b8ef45e6542a",
   "metadata": {},
   "outputs": [
    {
     "data": {
      "text/plain": [
       "('./images/gt_2022-09-05_08_35_54.309.png',\n",
       " './images/gt_2022-09-05_07_45_34.673.png')"
      ]
     },
     "execution_count": 5,
     "metadata": {},
     "output_type": "execute_result"
    }
   ],
   "source": [
    "train_files[1], val_files[1]"
   ]
  },
  {
   "cell_type": "code",
   "execution_count": 6,
   "id": "cc412c88-08d6-4904-9eb0-ba96a6a1b242",
   "metadata": {},
   "outputs": [],
   "source": [
    "with open('train.txt', 'w') as f:\n",
    "    f.write(\"\\n\".join(train_files) + \"\\n\")"
   ]
  },
  {
   "cell_type": "code",
   "execution_count": 7,
   "id": "f62c55b3-7da3-4b6c-a671-999d20df3bc9",
   "metadata": {},
   "outputs": [],
   "source": [
    "with open('val.txt', 'w') as f:\n",
    "    f.write(\"\\n\".join(val_files) + \"\\n\")"
   ]
  },
  {
   "cell_type": "code",
   "execution_count": 11,
   "id": "103d1b3e-daeb-478e-8e81-e037709f6492",
   "metadata": {},
   "outputs": [
    {
     "ename": "ModuleNotFoundError",
     "evalue": "No module named 'pyav'",
     "output_type": "error",
     "traceback": [
      "\u001b[1;31m---------------------------------------------------------------------------\u001b[0m",
      "\u001b[1;31mModuleNotFoundError\u001b[0m                       Traceback (most recent call last)",
      "\u001b[1;32m<ipython-input-11-28a05b964533>\u001b[0m in \u001b[0;36m<module>\u001b[1;34m\u001b[0m\n\u001b[1;32m----> 1\u001b[1;33m \u001b[1;32mimport\u001b[0m \u001b[0mpyav\u001b[0m\u001b[1;33m\u001b[0m\u001b[1;33m\u001b[0m\u001b[0m\n\u001b[0m",
      "\u001b[1;31mModuleNotFoundError\u001b[0m: No module named 'pyav'"
     ]
    }
   ],
   "source": [
    "import pyav"
   ]
  },
  {
   "cell_type": "markdown",
   "id": "f8bea6c5-822d-4714-93d5-b82e03e61c23",
   "metadata": {},
   "source": [
    "## Merge Negative Labels into Training Set"
   ]
  },
  {
   "cell_type": "code",
   "execution_count": 1,
   "id": "c67ef031-a05a-47f6-a4be-0653f10791b4",
   "metadata": {},
   "outputs": [
    {
     "name": "stdout",
     "output_type": "stream",
     "text": [
      "500\n"
     ]
    }
   ],
   "source": [
    "import glob\n",
    "import os\n",
    "\n",
    "label_path = r\"D:\\Dataset\\5food\\500images\\labels\"\n",
    "all_label_files = glob.glob(os.path.join(label_path, \"*.txt\"))\n",
    "print(len(all_label_files))"
   ]
  },
  {
   "cell_type": "code",
   "execution_count": 2,
   "id": "771bde51-23b7-4ede-92a6-39bcdccd86cf",
   "metadata": {},
   "outputs": [
    {
     "name": "stdout",
     "output_type": "stream",
     "text": [
      "5 0.457427536232 0.418181818182 0.559782608696 0.727272727273\n"
     ]
    }
   ],
   "source": [
    "all_label_files[0]\n",
    "with open(all_label_files[0], 'r') as f:\n",
    "    for line in f:\n",
    "        cls_id, x, y, w, h = line.strip().split()\n",
    "        print(cls_id, x, y, w, h)\n",
    "        break"
   ]
  },
  {
   "cell_type": "code",
   "execution_count": 3,
   "id": "15aa8e81-cf4f-488b-a5a0-a3339816cadb",
   "metadata": {},
   "outputs": [
    {
     "name": "stdout",
     "output_type": "stream",
     "text": [
      "{'5'}\n"
     ]
    }
   ],
   "source": [
    "all_cls = []\n",
    "\n",
    "for file in all_label_files:\n",
    "    with open(file, 'r') as f:\n",
    "        for line in f:\n",
    "            cls_id, x, y, w, h = line.strip().split()\n",
    "            all_cls.append(cls_id)\n",
    "#             break\n",
    "len(all_cls)\n",
    "print(set(all_cls))"
   ]
  },
  {
   "cell_type": "code",
   "execution_count": 4,
   "id": "4330a0fc-c6b0-4670-b50d-5a9f1bc1114e",
   "metadata": {},
   "outputs": [
    {
     "data": {
      "text/plain": [
       "'D:\\\\Dataset\\\\5food\\\\500images\\\\labels\\\\bailuobu-10-df9e4b0be2d7446580421c6913c052f3.txt'"
      ]
     },
     "execution_count": 4,
     "metadata": {},
     "output_type": "execute_result"
    }
   ],
   "source": [
    "all_label_files[0]"
   ]
  },
  {
   "cell_type": "code",
   "execution_count": 6,
   "id": "0bafdb51-5981-41ad-a6b5-a2213900ac75",
   "metadata": {},
   "outputs": [
    {
     "data": {
      "text/plain": [
       "'./images/bailuobu-10-df9e4b0be2d7446580421c6913c052f3.png'"
      ]
     },
     "execution_count": 6,
     "metadata": {},
     "output_type": "execute_result"
    }
   ],
   "source": [
    "append_train_files = [f\"./images/{os.path.basename(os.path.splitext(all_label_files[idx])[0])}.png\" for idx in range(len(all_label_files))]"
   ]
  },
  {
   "cell_type": "code",
   "execution_count": 10,
   "id": "e07f3ba5-bead-497b-aede-1b654fb8b36e",
   "metadata": {},
   "outputs": [
    {
     "name": "stdout",
     "output_type": "stream",
     "text": [
      "./images/bailuobu-10-df9e4b0be2d7446580421c6913c052f3.png\n",
      "./images/bailuobu-2-13c3b33d8f124f2d8aeb27c3f29a2c51.png\n"
     ]
    },
    {
     "data": {
      "text/plain": [
       "500"
      ]
     },
     "execution_count": 10,
     "metadata": {},
     "output_type": "execute_result"
    }
   ],
   "source": [
    "print(append_train_files[0])\n",
    "print(append_train_files[1])\n",
    "len(append_train_files)"
   ]
  },
  {
   "cell_type": "code",
   "execution_count": 12,
   "id": "130d6c8d-28f5-4a42-afdd-1658aabfe4a6",
   "metadata": {},
   "outputs": [],
   "source": [
    "with open(r'D:\\Dataset\\5food\\train.txt', 'a') as f:\n",
    "    f.write(\"\\n\".join(append_train_files) + \"\\n\")"
   ]
  },
  {
   "cell_type": "code",
   "execution_count": null,
   "id": "e465d92a-9191-4021-b0e9-491f4288a538",
   "metadata": {},
   "outputs": [],
   "source": []
  }
 ],
 "metadata": {
  "kernelspec": {
   "display_name": "Python 3 (ipykernel)",
   "language": "python",
   "name": "python3"
  },
  "language_info": {
   "codemirror_mode": {
    "name": "ipython",
    "version": 3
   },
   "file_extension": ".py",
   "mimetype": "text/x-python",
   "name": "python",
   "nbconvert_exporter": "python",
   "pygments_lexer": "ipython3",
   "version": "3.9.12"
  }
 },
 "nbformat": 4,
 "nbformat_minor": 5
}

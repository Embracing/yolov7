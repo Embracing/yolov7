{
 "cells": [
  {
   "cell_type": "code",
   "execution_count": 1,
   "id": "e59300da-e854-46fb-9162-f230e025cb33",
   "metadata": {},
   "outputs": [
    {
     "name": "stdout",
     "output_type": "stream",
     "text": [
      "1039\n"
     ]
    }
   ],
   "source": [
    "import glob\n",
    "import os\n",
    "\n",
    "label_path = r\"D:\\Dataset\\5food\\labels\"\n",
    "all_label_files = glob.glob(os.path.join(label_path, \"*.txt\"))\n",
    "print(len(all_label_files))"
   ]
  },
  {
   "cell_type": "code",
   "execution_count": 2,
   "id": "9ea1de9d-5c25-4463-b798-1176dc0532f1",
   "metadata": {},
   "outputs": [
    {
     "data": {
      "text/plain": [
       "'D:\\\\Dataset\\\\5food\\\\labels\\\\gt_2022-09-05_07_42_57.401.txt'"
      ]
     },
     "execution_count": 2,
     "metadata": {},
     "output_type": "execute_result"
    }
   ],
   "source": [
    "all_label_files[0]"
   ]
  },
  {
   "cell_type": "code",
   "execution_count": 5,
   "id": "759f48f6-0b04-40a3-8646-7d728a1579f5",
   "metadata": {},
   "outputs": [
    {
     "name": "stdout",
     "output_type": "stream",
     "text": [
      "2 0.583937198068 0.449494949495 0.175120772947 0.329292929293\n"
     ]
    }
   ],
   "source": [
    "with open(all_label_files[0], 'r') as f:\n",
    "    for line in f:\n",
    "        cls_id, x, y, w, h = line.strip().split()\n",
    "        print(cls_id, x, y, w, h)"
   ]
  },
  {
   "cell_type": "code",
   "execution_count": 8,
   "id": "3e381af9-0194-4c9f-ad21-b41849f256b6",
   "metadata": {},
   "outputs": [],
   "source": [
    "all_cls = []\n",
    "\n",
    "for file in all_label_files:\n",
    "    with open(file, 'r') as f:\n",
    "        for line in f:\n",
    "            cls_id, x, y, w, h = line.strip().split()\n",
    "            all_cls.append(cls_id)\n",
    "#             break"
   ]
  },
  {
   "cell_type": "code",
   "execution_count": 9,
   "id": "96e606ab-58ca-46e1-ac48-5d6352c5ca9e",
   "metadata": {},
   "outputs": [
    {
     "data": {
      "text/plain": [
       "3059"
      ]
     },
     "execution_count": 9,
     "metadata": {},
     "output_type": "execute_result"
    }
   ],
   "source": [
    "len(all_cls)"
   ]
  },
  {
   "cell_type": "code",
   "execution_count": 10,
   "id": "3df3fa13-f9cc-4d07-a720-ef6650da1805",
   "metadata": {},
   "outputs": [
    {
     "name": "stdout",
     "output_type": "stream",
     "text": [
      "{'4', '2', '3', '1', '0'}\n"
     ]
    }
   ],
   "source": [
    "print(set(all_cls))"
   ]
  },
  {
   "cell_type": "markdown",
   "id": "074244c4-1050-47e6-ae75-ebcf2bdc0960",
   "metadata": {
    "tags": []
   },
   "source": [
    "### Split into Train/Val"
   ]
  },
  {
   "cell_type": "code",
   "execution_count": 3,
   "id": "f192747d-45b5-48ae-b3cc-4579300f3c7b",
   "metadata": {},
   "outputs": [
    {
     "data": {
      "text/plain": [
       "(935, 104)"
      ]
     },
     "execution_count": 3,
     "metadata": {},
     "output_type": "execute_result"
    }
   ],
   "source": [
    "import random\n",
    "\n",
    "total = len(all_label_files)\n",
    "train_ratio = 0.9\n",
    "val_ratio = 0.1\n",
    "\n",
    "train_idx = random.sample(range(total), k= int(total * train_ratio))\n",
    "val_idx = [i for i in range(total) if i not in train_idx ]\n",
    "\n",
    "len(train_idx), len(val_idx)"
   ]
  },
  {
   "cell_type": "code",
   "execution_count": 4,
   "id": "3cd73b72-dad9-4606-932b-8bd94214e608",
   "metadata": {},
   "outputs": [],
   "source": [
    "train_files = [f\"./images/{os.path.basename(os.path.splitext(all_label_files[idx])[0])}.png\" for idx in train_idx]\n",
    "val_files = [f\"./images/{os.path.basename(os.path.splitext(all_label_files[idx])[0])}.png\" for idx in val_idx]\n",
    "\n",
    "# os.path.basename(os.path.splitext(all_label_files[0])[0])"
   ]
  },
  {
   "cell_type": "code",
   "execution_count": 5,
   "id": "c9a574b5-8e94-4cbb-b2e9-b8ef45e6542a",
   "metadata": {},
   "outputs": [
    {
     "data": {
      "text/plain": [
       "('./images/gt_2022-09-05_08_35_54.309.png',\n",
       " './images/gt_2022-09-05_07_45_34.673.png')"
      ]
     },
     "execution_count": 5,
     "metadata": {},
     "output_type": "execute_result"
    }
   ],
   "source": [
    "train_files[1], val_files[1]"
   ]
  },
  {
   "cell_type": "code",
   "execution_count": 6,
   "id": "cc412c88-08d6-4904-9eb0-ba96a6a1b242",
   "metadata": {},
   "outputs": [],
   "source": [
    "with open('train.txt', 'w') as f:\n",
    "    f.write(\"\\n\".join(train_files) + \"\\n\")"
   ]
  },
  {
   "cell_type": "code",
   "execution_count": 7,
   "id": "f62c55b3-7da3-4b6c-a671-999d20df3bc9",
   "metadata": {},
   "outputs": [],
   "source": [
    "with open('val.txt', 'w') as f:\n",
    "    f.write(\"\\n\".join(val_files) + \"\\n\")"
   ]
  },
  {
   "cell_type": "code",
   "execution_count": 11,
   "id": "103d1b3e-daeb-478e-8e81-e037709f6492",
   "metadata": {},
   "outputs": [
    {
     "ename": "ModuleNotFoundError",
     "evalue": "No module named 'pyav'",
     "output_type": "error",
     "traceback": [
      "\u001b[1;31m---------------------------------------------------------------------------\u001b[0m",
      "\u001b[1;31mModuleNotFoundError\u001b[0m                       Traceback (most recent call last)",
      "\u001b[1;32m<ipython-input-11-28a05b964533>\u001b[0m in \u001b[0;36m<module>\u001b[1;34m\u001b[0m\n\u001b[1;32m----> 1\u001b[1;33m \u001b[1;32mimport\u001b[0m \u001b[0mpyav\u001b[0m\u001b[1;33m\u001b[0m\u001b[1;33m\u001b[0m\u001b[0m\n\u001b[0m",
      "\u001b[1;31mModuleNotFoundError\u001b[0m: No module named 'pyav'"
     ]
    }
   ],
   "source": [
    "import pyav"
   ]
  },
  {
   "cell_type": "code",
   "execution_count": null,
   "id": "12f3926a-20fc-48a4-b068-aa70231add61",
   "metadata": {},
   "outputs": [],
   "source": []
  }
 ],
 "metadata": {
  "kernelspec": {
   "display_name": "Python 3",
   "language": "python",
   "name": "python3"
  },
  "language_info": {
   "codemirror_mode": {
    "name": "ipython",
    "version": 3
   },
   "file_extension": ".py",
   "mimetype": "text/x-python",
   "name": "python",
   "nbconvert_exporter": "python",
   "pygments_lexer": "ipython3",
   "version": "3.9.4"
  }
 },
 "nbformat": 4,
 "nbformat_minor": 5
}
